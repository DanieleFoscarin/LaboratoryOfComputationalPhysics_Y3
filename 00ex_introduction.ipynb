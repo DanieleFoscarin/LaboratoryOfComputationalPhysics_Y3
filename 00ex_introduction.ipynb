{
 "cells": [
  {
   "cell_type": "markdown",
   "metadata": {},
   "source": [
    "1. The MickeyMouse problem\n",
    "\n",
    "a) Write a program that prints the numbers from 1 to 100. But for multiples of three print Mickey instead of the number and for the multiples of five print Mouse. For numbers which are multiples of both three and five print MickeyMouse\n",
    "\n",
    "b) Put the result in a tuple and substitute Mickey with Donald and Mouse with Duck"
   ]
  },
  {
   "cell_type": "code",
   "execution_count": 19,
   "metadata": {},
   "outputs": [
    {
     "name": "stdout",
     "output_type": "stream",
     "text": [
      "1\n",
      "2\n",
      "Mickey\n",
      "4\n",
      "Mouse\n",
      "Mickey\n",
      "7\n",
      "8\n",
      "Mickey\n",
      "Mouse\n",
      "11\n",
      "Mickey\n",
      "13\n",
      "14\n",
      "MickeyMouse\n",
      "16\n",
      "17\n",
      "Mickey\n",
      "19\n",
      "Mouse\n",
      "Mickey\n",
      "22\n",
      "23\n",
      "Mickey\n",
      "Mouse\n",
      "26\n",
      "Mickey\n",
      "28\n",
      "29\n",
      "MickeyMouse\n",
      "31\n",
      "32\n",
      "Mickey\n",
      "34\n",
      "Mouse\n",
      "Mickey\n",
      "37\n",
      "38\n",
      "Mickey\n",
      "Mouse\n",
      "41\n",
      "Mickey\n",
      "43\n",
      "44\n",
      "MickeyMouse\n",
      "46\n",
      "47\n",
      "Mickey\n",
      "49\n",
      "Mouse\n",
      "Mickey\n",
      "52\n",
      "53\n",
      "Mickey\n",
      "Mouse\n",
      "56\n",
      "Mickey\n",
      "58\n",
      "59\n",
      "MickeyMouse\n",
      "61\n",
      "62\n",
      "Mickey\n",
      "64\n",
      "Mouse\n",
      "Mickey\n",
      "67\n",
      "68\n",
      "Mickey\n",
      "Mouse\n",
      "71\n",
      "Mickey\n",
      "73\n",
      "74\n",
      "MickeyMouse\n",
      "76\n",
      "77\n",
      "Mickey\n",
      "79\n",
      "Mouse\n",
      "Mickey\n",
      "82\n",
      "83\n",
      "Mickey\n",
      "Mouse\n",
      "86\n",
      "Mickey\n",
      "88\n",
      "89\n",
      "MickeyMouse\n",
      "91\n",
      "92\n",
      "Mickey\n",
      "94\n",
      "Mouse\n",
      "Mickey\n",
      "97\n",
      "98\n",
      "Mickey\n",
      "Mouse\n",
      "('Donald', 5, 'Donald', 'Donald', 10, 'Donald', 'DonaldDuck', 'Donald', 20, 'Donald', 'Donald', 25, 'Donald', 'DonaldDuck', 'Donald', 35, 'Donald', 'Donald', 40, 'Donald', 'DonaldDuck', 'Donald', 50, 'Donald', 'Donald', 55, 'Donald', 'DonaldDuck', 'Donald', 65, 'Donald', 'Donald', 70, 'Donald', 'DonaldDuck', 'Donald', 80, 'Donald', 'Donald', 85, 'Donald', 'DonaldDuck', 'Donald', 95, 'Donald', 'Donald', 100)\n"
     ]
    }
   ],
   "source": [
    "record_list = []\n",
    "for i in range(1,101):\n",
    "    if i%3==0 and i%5==0:\n",
    "        print(\"MickeyMouse\")\n",
    "        record_list.append(\"MickeyMouse\")\n",
    "    elif i%3==0:\n",
    "        print(\"Mickey\")\n",
    "        record_list.append(\"Mickey\")\n",
    "    elif i%5==0:\n",
    "        print(\"Mouse\")       \n",
    "        record_list.append(i)\n",
    "    else:\n",
    "        print(i)\n",
    "        \n",
    "\n",
    "for i in range(len(record_list)):\n",
    "    if isinstance(record_list[i], str):\n",
    "#         print(\"hey debb\")\n",
    "        record_list[i] = record_list[i].replace(\"Mickey\", \"Donald\")\n",
    "        record_list[i] = record_list[i].replace(\"Mouse\", \"Duck\")\n",
    "\n",
    "record_tuple = tuple(record_list)\n",
    "print(record_tuple)\n"
   ]
  },
  {
   "cell_type": "markdown",
   "metadata": {},
   "source": [
    "2\\. The swap function\n",
    "\n",
    "Write a function that swap the values of two input variables x and y (whatever the type). Try to do that also without a temporary variable"
   ]
  },
  {
   "cell_type": "code",
   "execution_count": 20,
   "metadata": {},
   "outputs": [
    {
     "name": "stdout",
     "output_type": "stream",
     "text": [
      "hello   20\n"
     ]
    }
   ],
   "source": [
    "def swapper(x,y):\n",
    "    return y,x\n",
    "\n",
    "# lets test it\n",
    "a, b = 20, \"hello\"\n",
    "a, b = swapper(a,b)\n",
    "print(a, ' ', b)"
   ]
  },
  {
   "cell_type": "markdown",
   "metadata": {},
   "source": [
    "3\\. Computing the distance\n",
    "\n",
    "Write a function that calculates and returns the euclidean distance between two points *u* and *v*, where *u* and *v* are both 2-tuples *(x,y)*. For example, if *u=(3,0)* and *v=(0,4)*, the function should return 5"
   ]
  },
  {
   "cell_type": "code",
   "execution_count": 48,
   "metadata": {},
   "outputs": [
    {
     "name": "stdout",
     "output_type": "stream",
     "text": [
      "5.0\n"
     ]
    }
   ],
   "source": [
    "def euclidean(a, b):\n",
    "    dist = pow((pow(a[0]+b[0],2) + pow(a[1]+b[1], 2)), 1/2)\n",
    "    return dist\n",
    "\n",
    "# test\n",
    "a, b = (3,0), (0,4)\n",
    "c = euclidean(a,b)\n",
    "print(c)\n"
   ]
  },
  {
   "cell_type": "markdown",
   "metadata": {},
   "source": [
    "4\\. Counting letters\n",
    "\n",
    "Write a program to calculate the number of times each character occurs in a given string *s*. Ignore differneces in capitalization"
   ]
  },
  {
   "cell_type": "code",
   "execution_count": 82,
   "metadata": {},
   "outputs": [
    {
     "name": "stdout",
     "output_type": "stream",
     "text": [
      "[('w', 2), ('r', 17), ('i', 14), ('t', 19), ('e', 22), ('a', 7), ('p', 8), ('o', 13), ('g', 1), ('m', 12), ('h', 9), ('n', 10), ('s', 9), ('u', 9), ('b', 5), ('f', 10), ('1', 2), ('0', 2), ('.', 2), ('l', 6), ('c', 3), ('k', 2), ('y', 2), ('d', 3), ('v', 2)]\n"
     ]
    },
    {
     "data": {
      "text/plain": [
       "25"
      ]
     },
     "execution_count": 82,
     "metadata": {},
     "output_type": "execute_result"
    }
   ],
   "source": [
    "\n",
    "def char_counter(text, ignore_space = True):\n",
    "    #ignore capitalization\n",
    "    text = text.lower()\n",
    "    length = len(text)\n",
    "    i = 0\n",
    "    record = []\n",
    "    if ignore_space:\n",
    "        text = text.replace(' ', '')\n",
    "    while i < length:\n",
    "#         print(text)\n",
    "#         print(length)\n",
    "        char = text[i]\n",
    "        count = 0\n",
    "        for j in range(len(text)):\n",
    "            if char==text[j]:\n",
    "                count += 1\n",
    "#         print(char, \"= \", count)\n",
    "        record.append((char, count))\n",
    "        \n",
    "        text = text.replace(char, '')\n",
    "        length = len(text)\n",
    "        \n",
    "    return record\n",
    "    \n",
    "s=\"Write a program that prints the numbers from 1 to 100. \\\n",
    "But for multiples of three print Mickey instead of the number and for the multiples of five print Mouse. \\\n",
    "For numbers which are multiples of both three and five print MickeyMouse\"\n",
    "record = char_counter(s)\n",
    "print(record)\n"
   ]
  },
  {
   "cell_type": "markdown",
   "metadata": {},
   "source": [
    "5\\. Isolating the unique\n",
    "\n",
    "Write a function that determines and count the unique numbers in the list *l*"
   ]
  },
  {
   "cell_type": "code",
   "execution_count": 43,
   "metadata": {},
   "outputs": [
    {
     "name": "stdout",
     "output_type": "stream",
     "text": [
      "there are  54  unique values\n",
      "{1, 3, 5, 8, 9, 10, 16, 18, 19, 20, 24, 30, 31, 33, 34, 36, 37, 39, 41, 42, 45, 47, 50, 51, 53, 54, 55, 56, 57, 58, 63, 64, 66, 70, 72, 74, 75, 79, 81, 82, 84, 85, 86, 87, 88, 89, 90, 91, 92, 94, 95, 96, 98, 99}\n"
     ]
    }
   ],
   "source": [
    "l = [36, 45, 58, 3, 74, 96, 64, 45, 31, 10, 24, 19, 33, 86, 99, 18, 63, 70, 85,\n",
    " 85, 63, 47, 56, 42, 70, 84, 88, 55, 20, 54, 8, 56, 51, 79, 81, 57, 37, 91,\n",
    " 1, 84, 84, 36, 66, 9, 89, 50, 42, 91, 50, 95, 90, 98, 39, 16, 82, 31, 92, 41,\n",
    " 45, 30, 66, 70, 34, 85, 94, 5, 3, 36, 72, 91, 84, 34, 87, 75, 53, 51, 20, 89, 51, 20]\n",
    "\n",
    "\n",
    "set_l = set(l)\n",
    "print(\"there are \",len(set_l), \" unique values\")\n",
    "print(set_l)"
   ]
  },
  {
   "cell_type": "markdown",
   "metadata": {},
   "source": [
    "6\\. Combination of functions\n",
    "\n",
    "Write two functions - one that returns the square of a number, and one that returns the cube. Now write a third function that returns the number raised to the 6th power using the two previous functions."
   ]
  },
  {
   "cell_type": "code",
   "execution_count": 49,
   "metadata": {},
   "outputs": [
    {
     "name": "stdout",
     "output_type": "stream",
     "text": [
      "64\n"
     ]
    }
   ],
   "source": [
    "def square(a):\n",
    "    return pow(a,2)\n",
    "\n",
    "def cube(a):\n",
    "    return pow(a,3)\n",
    "\n",
    "def sixth(a):\n",
    "    return square(a)*cube(a)*a\n",
    "\n",
    "s = sixth(2)\n",
    "print(s)"
   ]
  },
  {
   "cell_type": "markdown",
   "metadata": {},
   "source": [
    "7\\. Cubes\n",
    "\n",
    "Create a list of the cubes of x for x in *[0, 10]* using:\n",
    "\n",
    "a) a for loop\n",
    "\n",
    "b) a list comprehension"
   ]
  },
  {
   "cell_type": "code",
   "execution_count": 64,
   "metadata": {},
   "outputs": [
    {
     "name": "stdout",
     "output_type": "stream",
     "text": [
      "[0, 1, 8, 27, 64, 125, 216, 343, 512, 729]\n",
      "[0, 1, 8, 27, 64, 125, 216, 343, 512, 729]\n"
     ]
    }
   ],
   "source": [
    "ll = []\n",
    "for i in range(10):\n",
    "    ll.append(i**3)   \n",
    "print(ll)\n",
    "\n",
    "l2 = [0,1,2,3,4,5,6,7,8,9]\n",
    "l2 = [i for i in range((9**3)+1) if int(round(i ** (1. / 3))) ** 3 == i]\n",
    "print(l2)\n",
    "\n"
   ]
  },
  {
   "cell_type": "markdown",
   "metadata": {},
   "source": [
    "8\\. Nested list comprehension\n",
    "\n",
    "A Pythagorean triple is an integer solution to the Pythagorean theorem $a^2+b^2=c^2$. The first Pythagorean triple is (3,4,5). Find and put in a tuple all unique Pythagorean triples for the positive integers a, b and c less than 100."
   ]
  },
  {
   "cell_type": "code",
   "execution_count": 78,
   "metadata": {},
   "outputs": [
    {
     "name": "stdout",
     "output_type": "stream",
     "text": [
      "[(3, 4, 5), (5, 12, 13), (6, 8, 10), (7, 24, 25), (8, 15, 17), (9, 12, 15), (9, 40, 41), (10, 24, 26), (11, 60, 61), (12, 16, 20), (12, 35, 37), (13, 84, 85), (14, 48, 50), (15, 20, 25), (15, 36, 39), (16, 30, 34), (16, 63, 65), (18, 24, 30), (18, 80, 82), (20, 21, 29), (20, 48, 52), (21, 28, 35), (21, 72, 75), (24, 32, 40), (24, 45, 51), (24, 70, 74), (25, 60, 65), (27, 36, 45), (28, 45, 53), (30, 40, 50), (30, 72, 78), (32, 60, 68), (33, 44, 55), (33, 56, 65), (35, 84, 91), (36, 48, 60), (36, 77, 85), (39, 52, 65), (39, 80, 89), (40, 42, 58), (40, 75, 85), (42, 56, 70), (45, 60, 75), (48, 55, 73), (48, 64, 80), (51, 68, 85), (54, 72, 90), (57, 76, 95), (60, 63, 87), (65, 72, 97)]\n",
      "((21, 72, 75), (27, 36, 45), (8, 15, 17), (24, 70, 74), (42, 56, 70), (11, 60, 61), (12, 16, 20), (24, 45, 51), (12, 35, 37), (6, 8, 10), (54, 72, 90), (10, 24, 26), (9, 40, 41), (21, 28, 35), (51, 68, 85), (13, 84, 85), (25, 60, 65), (20, 21, 29), (35, 84, 91), (15, 20, 25), (39, 52, 65), (30, 72, 78), (32, 60, 68), (33, 56, 65), (7, 24, 25), (40, 42, 58), (16, 63, 65), (28, 45, 53), (9, 12, 15), (33, 44, 55), (36, 48, 60), (57, 76, 95), (18, 24, 30), (45, 60, 75), (5, 12, 13), (24, 32, 40), (60, 63, 87), (40, 75, 85), (30, 40, 50), (15, 36, 39), (16, 30, 34), (20, 48, 52), (39, 80, 89), (14, 48, 50), (48, 55, 73), (3, 4, 5), (48, 64, 80), (18, 80, 82), (36, 77, 85), (65, 72, 97))\n"
     ]
    }
   ],
   "source": [
    "pyt_l = []\n",
    "for a in range(1,100):\n",
    "    for b in range(b,100):\n",
    "        for c in range(c,100):\n",
    "            if a**2 + b**2 == c**2:\n",
    "                pyt_l.append(tuple(sorted((a,b,c))))\n",
    "\n",
    "print(pyt_l)\n",
    "#use a set to remove duplicates\n",
    "pyt_u = tuple(set(pyt_l))\n",
    "\n",
    "print(pyt_u)\n",
    "print()\n",
    "\n",
    "#most efficient method:\n",
    "l = tuple([(a,b,c) for a in range(1,100) for b in range(a,100) for c in range(b,100) if a**2 + b**2 == c**2])\n",
    "print(l)"
   ]
  },
  {
   "cell_type": "markdown",
   "metadata": {},
   "source": [
    "9\\. Normalization\n",
    "\n",
    "Write a function that takes a tuple of numbers and returns it with the entries normalized to one"
   ]
  },
  {
   "cell_type": "code",
   "execution_count": 1,
   "metadata": {},
   "outputs": [
    {
     "name": "stdout",
     "output_type": "stream",
     "text": [
      "[0.15128593040847202, 0.30257186081694404, 0.09228441754916793, 0.4538577912254161]\n"
     ]
    }
   ],
   "source": [
    "def normalizer(a):\n",
    "    s = 0\n",
    "    b = []\n",
    "    for i in range(len(a)):\n",
    "        s = s+a[i]\n",
    "    for i in range(len(a)):\n",
    "        b.append(a[i]/s)\n",
    "    return b\n",
    "\n",
    "\n",
    "# example \n",
    "a = (2,4,1.22, 6)\n",
    "print(normalizer(a))            "
   ]
  }
 ],
 "metadata": {
  "kernelspec": {
   "display_name": "Python 3",
   "language": "python",
   "name": "python3"
  },
  "language_info": {
   "codemirror_mode": {
    "name": "ipython",
    "version": 3
   },
   "file_extension": ".py",
   "mimetype": "text/x-python",
   "name": "python",
   "nbconvert_exporter": "python",
   "pygments_lexer": "ipython3",
   "version": "3.7.4"
  }
 },
 "nbformat": 4,
 "nbformat_minor": 4
}
