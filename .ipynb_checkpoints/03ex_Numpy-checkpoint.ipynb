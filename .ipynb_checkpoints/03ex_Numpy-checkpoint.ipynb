{
 "cells": [
  {
   "cell_type": "markdown",
   "metadata": {},
   "source": [
    "### Numpy basics"
   ]
  },
  {
   "cell_type": "markdown",
   "metadata": {},
   "source": [
    "1\\. Find the row, column and overall means for the following matrix:\n",
    "\n",
    "```python\n",
    "m = np.arange(12).reshape((3,4))\n",
    "```"
   ]
  },
  {
   "cell_type": "code",
   "execution_count": 1,
   "metadata": {},
   "outputs": [
    {
     "name": "stdout",
     "output_type": "stream",
     "text": [
      "[[ 0  1  2  3]\n",
      " [ 4  5  6  7]\n",
      " [ 8  9 10 11]]\n",
      "\n",
      "[1.5 5.5 9.5]\n",
      "[4. 5. 6. 7.]\n",
      "5.5\n"
     ]
    }
   ],
   "source": [
    "import numpy as np\n",
    "\n",
    "m = np.arange(12).reshape((3,4))\n",
    "print(m)\n",
    "print()\n",
    "\n",
    "row_m = np.mean(m,1)\n",
    "print(row_m)\n",
    "col_m = np.mean(m,0)\n",
    "print(col_m)\n",
    "all_m = np.mean(m)\n",
    "print(all_m)"
   ]
  },
  {
   "cell_type": "markdown",
   "metadata": {},
   "source": [
    "2\\. Find the outer product of the following two vecotrs\n",
    "\n",
    "```python\n",
    "u = np.array([1,3,5,7])\n",
    "v = np.array([2,4,6,8])\n",
    "```\n",
    "\n",
    "Do this in the following ways:\n",
    "\n",
    "   * Using the function outer in numpy\n",
    "   * Using a nested for loop or list comprehension\n",
    "   * Using numpy broadcasting operatoins\n"
   ]
  },
  {
   "cell_type": "code",
   "execution_count": 42,
   "metadata": {},
   "outputs": [
    {
     "name": "stdout",
     "output_type": "stream",
     "text": [
      "[[ 2  4  6  8]\n",
      " [ 6 12 18 24]\n",
      " [10 20 30 40]\n",
      " [14 28 42 56]] \n",
      "\n",
      "[[ 2.  4.  6.  8.]\n",
      " [ 6. 12. 18. 24.]\n",
      " [10. 20. 30. 40.]\n",
      " [14. 28. 42. 56.]] \n",
      "\n",
      "[[ 2  4  6  8]\n",
      " [ 6 12 18 24]\n",
      " [10 20 30 40]\n",
      " [14 28 42 56]]\n"
     ]
    }
   ],
   "source": [
    "u = np.array([1,3,5,7])\n",
    "v = np.array([2,4,6,8])\n",
    "\n",
    "w = np.outer(u, v)\n",
    "print(w, '\\n')\n",
    "\n",
    "w = np.zeros((np.size(u), np.size(v)))\n",
    "for i in range(np.size(w,0)):\n",
    "    for j in range(np.size(w,1)):\n",
    "        w[i,j] = u[i]*v[j]\n",
    "print(w, '\\n')\n",
    "\n",
    "w = u[:, np.newaxis]*v\n",
    "print(w)\n"
   ]
  },
  {
   "cell_type": "markdown",
   "metadata": {},
   "source": [
    "3\\. Create a 10 by 6 matrix of random uniform numbers. Set all rows with any entry less than 0.1 to be zero\n",
    "\n",
    "Hint: Use the following numpy functions - np.random.random, np.any as well as Boolean indexing and the axis argument."
   ]
  },
  {
   "cell_type": "code",
   "execution_count": 23,
   "metadata": {},
   "outputs": [
    {
     "name": "stdout",
     "output_type": "stream",
     "text": [
      "[[0.72381405 0.38492774 0.98965291 0.62005644 0.35152381 0.10318913]\n",
      " [0.26916138 0.77474983 0.31260619 0.32276801 0.73695208 0.22327927]\n",
      " [0.6357804  0.95197641 0.98904245 0.46008783 0.82337371 0.83688641]\n",
      " [0.52872377 0.75166677 0.33448388 0.47064549 0.79332187 0.52857881]\n",
      " [0.29392552 0.56507271 0.78513093 0.4652831  0.11304335 0.78700114]\n",
      " [0.36530253 0.         0.34250655 0.35280876 0.27495046 0.77676174]\n",
      " [0.         0.         0.62142193 0.22301964 0.91191494 0.86886252]\n",
      " [0.54454305 0.85194992 0.14448393 0.69091415 0.52985464 0.46130525]\n",
      " [0.28580839 0.94208113 0.         0.46729028 0.11421437 0.70356718]\n",
      " [0.         0.18656095 0.7419443  0.65664064 0.79306898 0.39569322]]\n"
     ]
    }
   ],
   "source": [
    "a = np.random.random((10,6))\n",
    "a[a<0.1] = 0\n",
    "print(a)"
   ]
  },
  {
   "cell_type": "markdown",
   "metadata": {},
   "source": [
    "4\\. Use np.linspace to create an array of 100 numbers between 0 and 2π (includsive).\n",
    "\n",
    "  * Extract every 10th element using slice notation\n",
    "  * Reverse the array using slice notation\n",
    "  * Extract elements where the absolute difference between the sine and cosine functions evaluated at that element is less than 0.1\n",
    "  * Make a plot showing the sin and cos functions and indicate where they are close"
   ]
  },
  {
   "cell_type": "code",
   "execution_count": 32,
   "metadata": {},
   "outputs": [
    {
     "name": "stdout",
     "output_type": "stream",
     "text": [
      "[0.         0.63466518 1.26933037 1.90399555 2.53866073 3.17332591\n",
      " 3.8079911  4.44265628 5.07732146 5.71198664] \n",
      "\n",
      "[6.28318531 6.21971879 6.15625227 6.09278575 6.02931923 5.96585272\n",
      " 5.9023862  5.83891968 5.77545316 5.71198664 5.64852012 5.58505361\n",
      " 5.52158709 5.45812057 5.39465405 5.33118753 5.26772102 5.2042545\n",
      " 5.14078798 5.07732146 5.01385494 4.95038842 4.88692191 4.82345539\n",
      " 4.75998887 4.69652235 4.63305583 4.56958931 4.5061228  4.44265628\n",
      " 4.37918976 4.31572324 4.25225672 4.1887902  4.12532369 4.06185717\n",
      " 3.99839065 3.93492413 3.87145761 3.8079911  3.74452458 3.68105806\n",
      " 3.61759154 3.55412502 3.4906585  3.42719199 3.36372547 3.30025895\n",
      " 3.23679243 3.17332591 3.10985939 3.04639288 2.98292636 2.91945984\n",
      " 2.85599332 2.7925268  2.72906028 2.66559377 2.60212725 2.53866073\n",
      " 2.47519421 2.41172769 2.34826118 2.28479466 2.22132814 2.15786162\n",
      " 2.0943951  2.03092858 1.96746207 1.90399555 1.84052903 1.77706251\n",
      " 1.71359599 1.65012947 1.58666296 1.52319644 1.45972992 1.3962634\n",
      " 1.33279688 1.26933037 1.20586385 1.14239733 1.07893081 1.01546429\n",
      " 0.95199777 0.88853126 0.82506474 0.76159822 0.6981317  0.63466518\n",
      " 0.57119866 0.50773215 0.44426563 0.38079911 0.31733259 0.25386607\n",
      " 0.19039955 0.12693304 0.06346652 0.        ] \n",
      "\n",
      "[0.76159822 0.82506474 3.87145761 3.93492413] \n",
      "\n"
     ]
    },
    {
     "data": {
      "image/png": "[encoded data removed]",
      "text/plain": [
       "<Figure size 432x288 with 1 Axes>"
      ]
     },
     "metadata": {
      "needs_background": "light"
     },
     "output_type": "display_data"
    }
   ],
   "source": [
    "a = np.linspace(0,2*np.pi,100)\n",
    "\n",
    "print(a[::10], '\\n')\n",
    "print(a[::-1], '\\n')\n",
    "close = a[np.abs(np.sin(a)-np.cos(a))<0.1]\n",
    "print(close, '\\n')\n",
    "\n",
    "\n",
    "from matplotlib import pyplot as plt\n",
    "\n",
    "sin_a = np.sin(a)\n",
    "cos_a = np.cos(a)\n",
    "plt.figure()\n",
    "plt.plot(a, sin_a)\n",
    "plt.plot(a, cos_a)\n",
    "for point in close:\n",
    "    plt.axvline(point)"
   ]
  },
  {
   "cell_type": "markdown",
   "metadata": {},
   "source": [
    "5\\. Create a matrix that shows the 10 by 10 multiplication table.\n",
    "\n",
    " * Find the trace of the matrix\n",
    " * Extract the anto-diagonal (this should be ```array([10, 18, 24, 28, 30, 30, 28, 24, 18, 10])```)\n",
    " * Extract the diagnoal offset by 1 upwards (this should be ```array([ 2,  6, 12, 20, 30, 42, 56, 72, 90])```)"
   ]
  },
  {
   "cell_type": "code",
   "execution_count": 44,
   "metadata": {},
   "outputs": [
    {
     "name": "stdout",
     "output_type": "stream",
     "text": [
      "[[  1.   2.   3.   4.   5.   6.   7.   8.   9.  10.]\n",
      " [  2.   4.   6.   8.  10.  12.  14.  16.  18.  20.]\n",
      " [  3.   6.   9.  12.  15.  18.  21.  24.  27.  30.]\n",
      " [  4.   8.  12.  16.  20.  24.  28.  32.  36.  40.]\n",
      " [  5.  10.  15.  20.  25.  30.  35.  40.  45.  50.]\n",
      " [  6.  12.  18.  24.  30.  36.  42.  48.  54.  60.]\n",
      " [  7.  14.  21.  28.  35.  42.  49.  56.  63.  70.]\n",
      " [  8.  16.  24.  32.  40.  48.  56.  64.  72.  80.]\n",
      " [  9.  18.  27.  36.  45.  54.  63.  72.  81.  90.]\n",
      " [ 10.  20.  30.  40.  50.  60.  70.  80.  90. 100.]] \n",
      "\n",
      "385.0 \n",
      "\n",
      "[10. 18. 24. 28. 30. 30. 28. 24. 18. 10.] \n",
      "\n",
      "[ 2.  6. 12. 20. 30. 42. 56. 72. 90.]\n"
     ]
    }
   ],
   "source": [
    "a = np.outer(np.linspace(1,10,10), np.linspace(1,10,10))\n",
    "print(a,'\\n')\n",
    "\n",
    "trace = np.trace(a)\n",
    "print(trace, '\\n')\n",
    "\n",
    "anto_diag = np.diagonal(np.rot90(a,3)) \n",
    "print(anto_diag, '\\n')\n",
    "\n",
    "diag_off = np.diagonal(a, 1)\n",
    "print(diag_off)"
   ]
  },
  {
   "cell_type": "markdown",
   "metadata": {},
   "source": [
    "6\\. Use broadcasting to create a grid of distances\n",
    "\n",
    "Route 66 crosses the following cities in the US: Chicago, Springfield, Saint-Louis, Tulsa, Oklahoma City, Amarillo, Santa Fe, Albuquerque, Flagstaff, Los Angeles\n",
    "The corresponding positions in miles are: 0, 198, 303, 736, 871, 1175, 1475, 1544, 1913, 2448\n",
    "\n",
    "  * Construct a 2D grid of distances among each city along Route 66\n",
    "  * Convert that in km (those savages...)"
   ]
  },
  {
   "cell_type": "code",
   "execution_count": 52,
   "metadata": {},
   "outputs": [
    {
     "name": "stdout",
     "output_type": "stream",
     "text": [
      "[[   0  198  303  736  871 1175 1475 1544 1913 2448]\n",
      " [ 198    0  105  538  673  977 1277 1346 1715 2250]\n",
      " [ 303  105    0  433  568  872 1172 1241 1610 2145]\n",
      " [ 736  538  433    0  135  439  739  808 1177 1712]\n",
      " [ 871  673  568  135    0  304  604  673 1042 1577]\n",
      " [1175  977  872  439  304    0  300  369  738 1273]\n",
      " [1475 1277 1172  739  604  300    0   69  438  973]\n",
      " [1544 1346 1241  808  673  369   69    0  369  904]\n",
      " [1913 1715 1610 1177 1042  738  438  369    0  535]\n",
      " [2448 2250 2145 1712 1577 1273  973  904  535    0]] \n",
      "\n",
      "[[   0.       318.64932  487.63002 1184.47424 1401.73514 1890.9745\n",
      "  2373.7765  2484.82096 3078.66742 3939.66432]\n",
      " [ 318.64932    0.       168.9807   865.82492 1083.08582 1572.32518\n",
      "  2055.12718 2166.17164 2760.0181  3621.015  ]\n",
      " [ 487.63002  168.9807     0.       696.84422  914.10512 1403.34448\n",
      "  1886.14648 1997.19094 2591.0374  3452.0343 ]\n",
      " [1184.47424  865.82492  696.84422    0.       217.2609   706.50026\n",
      "  1189.30226 1300.34672 1894.19318 2755.19008]\n",
      " [1401.73514 1083.08582  914.10512  217.2609     0.       489.23936\n",
      "   972.04136 1083.08582 1676.93228 2537.92918]\n",
      " [1890.9745  1572.32518 1403.34448  706.50026  489.23936    0.\n",
      "   482.802    593.84646 1187.69292 2048.68982]\n",
      " [2373.7765  2055.12718 1886.14648 1189.30226  972.04136  482.802\n",
      "     0.       111.04446  704.89092 1565.88782]\n",
      " [2484.82096 2166.17164 1997.19094 1300.34672 1083.08582  593.84646\n",
      "   111.04446    0.       593.84646 1454.84336]\n",
      " [3078.66742 2760.0181  2591.0374  1894.19318 1676.93228 1187.69292\n",
      "   704.89092  593.84646    0.       860.9969 ]\n",
      " [3939.66432 3621.015   3452.0343  2755.19008 2537.92918 2048.68982\n",
      "  1565.88782 1454.84336  860.9969     0.     ]]\n"
     ]
    }
   ],
   "source": [
    "d = np.array([0, 198, 303, 736, 871, 1175, 1475, 1544, 1913, 2448])\n",
    "dd = np.abs(d[:,np.newaxis] - d)\n",
    "print(dd, '\\n' )\n",
    "\n",
    "dd = dd*1.60934\n",
    "print(dd)"
   ]
  },
  {
   "cell_type": "markdown",
   "metadata": {},
   "source": [
    "7\\. Prime numbers sieve: compute the prime numbers in the 0-N (N=99 to start with) range with a sieve (mask).\n",
    "  * Constract a shape (100,) boolean array, the mask\n",
    "  * Identify the multiples of each number starting from 2 and set accordingly the corresponding mask element\n",
    "  * Apply the mask to obtain an array of ordered prime numbers\n",
    "  * Check the performances (timeit); how does it scale with N?\n",
    "  * Implement the optimization suggested in the [sieve of Eratosthenes](https://en.wikipedia.org/wiki/Sieve_of_Eratosthenes)"
   ]
  },
  {
   "cell_type": "code",
   "execution_count": 2,
   "metadata": {},
   "outputs": [
    {
     "name": "stdout",
     "output_type": "stream",
     "text": [
      "[ 0  1  2  3  5  7 11 13 17 19 23 29 31 37 41 43 47 53 59 61 67 71 73 79\n",
      " 83 89 97]\n",
      "102 µs ± 4.82 µs per loop (mean ± std. dev. of 7 runs, 1000 loops each)\n",
      "2.8 ms ± 583 µs per loop (mean ± std. dev. of 7 runs, 100 loops each)\n",
      "33.4 ms ± 5.34 ms per loop (mean ± std. dev. of 7 runs, 10 loops each)\n"
     ]
    }
   ],
   "source": [
    "def findPrimes(N):\n",
    "    a = np.arange(N+1)\n",
    "    mask = np.ones((N+1,1), dtype=bool)\n",
    "    for i in range(2,int(np.ceil(N/2))):\n",
    "        n = 2\n",
    "        while i*n <= N:\n",
    "            mask[i*n] = False\n",
    "            n +=1  \n",
    "    primes = a[mask.reshape(a.shape)]\n",
    "    return primes\n",
    "\n",
    "print(findPrimes(99))\n",
    "\n",
    "\n",
    "%timeit findPrimes(99)\n",
    "%timeit findPrimes(1000)\n",
    "%timeit findPrimes(10000)\n",
    "\n",
    "\n",
    "        \n",
    "        "
   ]
  },
  {
   "cell_type": "code",
   "execution_count": 12,
   "metadata": {},
   "outputs": [
    {
     "name": "stdout",
     "output_type": "stream",
     "text": [
      "[ 0  1  2  3  4  5  7 11 13 17 19 23 29 31 37 41 43 47 53 59 61 67 71 73\n",
      " 79 83 89 97]\n",
      "121 µs ± 13.6 µs per loop (mean ± std. dev. of 7 runs, 10000 loops each)\n",
      "2.01 ms ± 206 µs per loop (mean ± std. dev. of 7 runs, 1000 loops each)\n",
      "27.9 ms ± 4.01 ms per loop (mean ± std. dev. of 7 runs, 10 loops each)\n"
     ]
    }
   ],
   "source": [
    "def eratosthenes_primes(N):\n",
    "    a = np.arange(N+1)\n",
    "    mask = np.ones((1,N+1), dtype=bool).T\n",
    "    p = 3\n",
    "    i = 2\n",
    "    while(p<=N):\n",
    "        if p*i <= N:\n",
    "            mask[p*i] = False\n",
    "            i += 1\n",
    "        else:\n",
    "            p += 1\n",
    "            i = 2\n",
    "            while (p<=N) and (~mask[p]):\n",
    "                p+=1\n",
    "    primes = a[mask.reshape(a.shape)]\n",
    "    return primes\n",
    "\n",
    "print(eratosthenes_primes(99))\n",
    "\n",
    "%timeit eratosthenes_primes(99)\n",
    "%timeit eratosthenes_primes(1000)\n",
    "%timeit eratosthenes_primes(10000)"
   ]
  },
  {
   "cell_type": "markdown",
   "metadata": {},
   "source": [
    "8\\. Diffusion using random walk\n",
    "\n",
    "Consider a simple random walk process: at each step in time, a walker jumps right or left (+1 or -1) with equal probability. The goal is to find the typical distance from the origin of a random walker after a given amount of time. \n",
    "To do that, let's simulate many walkers and create a 2D array with each walker as a raw and the actual time evolution as columns\n",
    "\n",
    "  * Take 1000 walkers and let them walk for 200 steps\n",
    "  * Use randint to create a 2D array of size walkers x steps with values -1 or 1\n",
    "  * Build the actual walking distances for each walker (i.e. another 2D array \"summing on each raw\")\n",
    "  * Take the square of that 2D array (elementwise)\n",
    "  * Compute the mean of the squared distances at each step (i.e. the mean along the columns)\n",
    "  * Plot the average distances (sqrt(distance\\*\\*2)) as a function of time (step)\n",
    "  \n",
    "Did you get what you expected?"
   ]
  },
  {
   "cell_type": "code",
   "execution_count": 61,
   "metadata": {},
   "outputs": [
    {
     "data": {
      "text/plain": [
       "[<matplotlib.lines.Line2D at 0x1abdcc842c8>]"
      ]
     },
     "execution_count": 61,
     "metadata": {},
     "output_type": "execute_result"
    },
    {
     "data": {
      "image/png": "[encoded data removed]",
      "text/plain": [
       "<Figure size 432x288 with 1 Axes>"
      ]
     },
     "metadata": {
      "needs_background": "light"
     },
     "output_type": "display_data"
    }
   ],
   "source": [
    "num_w = 1000\n",
    "num_steps = 200\n",
    "\n",
    "a = np.random.randint(0,2, (num_w, num_steps))\n",
    "a[a==0] = -1\n",
    "# print(a)\n",
    "distM = np.cumsum(a, axis=1)\n",
    "distM = distM**2\n",
    "# dist_steps = (np.sum(distM, axis=0))\n",
    "mean_dist_steps = np.mean(distM, axis=0)\n",
    "\n",
    "plt.figure()\n",
    "plt.plot(np.arange(num_steps),np.sqrt(mean_dist_steps))\n",
    "\n",
    "\n",
    "#I expected that the walk would stay close to 0, that's unexpected"
   ]
  },
  {
   "cell_type": "markdown",
   "metadata": {},
   "source": [
    "9\\. Analyze a data file \n",
    "  * Download the population of hares, lynxes and carrots at the beginning of the last century.\n",
    "    ```python\n",
    "    ! wget https://www.dropbox.com/s/3vigxoqayo389uc/populations.txt\n",
    "    ```\n",
    "\n",
    "  * Check the content by looking within the file\n",
    "  * Load the data (use an appropriate numpy method) into a 2D array\n",
    "  * Create arrays out of the columns, the arrays being (in order): *year*, *hares*, *lynxes*, *carrots* \n",
    "  * Plot the 3 populations over the years\n",
    "  * Compute the main statistical properties of the dataset (mean, std, correlations, etc.)\n",
    "  * Which species has the highest population each year?\n",
    "\n",
    "Do you feel there is some evident correlation here? [Studies](https://www.enr.gov.nt.ca/en/services/lynx/lynx-snowshoe-hare-cycle) tend to believe so."
   ]
  },
  {
   "cell_type": "code",
   "execution_count": 46,
   "metadata": {},
   "outputs": [
    {
     "name": "stderr",
     "output_type": "stream",
     "text": [
      "\"wget\" non è riconosciuto come comando interno o esterno,\n",
      " un programma eseguibile o un file batch.\n"
     ]
    }
   ],
   "source": [
    "! wget https://www.dropbox.com/s/3vigxoqayo389uc/populations.txt\n",
    "# I manually downloaded the file"
   ]
  },
  {
   "cell_type": "code",
   "execution_count": 45,
   "metadata": {},
   "outputs": [
    {
     "name": "stdout",
     "output_type": "stream",
     "text": [
      "------hares------\n",
      "sum 715700.0\n",
      "min 7600.0\n",
      "argmin 17\n",
      "mean 34080.95238095238\n",
      "median 25400.0\n",
      "std 20897.906458089667\n",
      "correlation  [1.494612e+10]\n",
      "\n",
      "------lynxes------\n",
      "sum 423500.0\n",
      "min 4000.0\n",
      "argmin 0\n",
      "mean 20166.666666666668\n",
      "median 12300.0\n",
      "std 16254.591536908763\n",
      "correlation  [1.718454e+10]\n",
      "\n",
      "------carrots------\n",
      "sum 890400.0\n",
      "min 36700.0\n",
      "argmin 16\n",
      "mean 42400.0\n",
      "median 41800.0\n",
      "std 3322.5062255844787\n",
      "correlation  [3.032147e+10]\n",
      "\n",
      " max population:\n",
      "1900 :  carrots\n",
      "1901 :  carrots\n",
      "1902 :  hares\n",
      "1903 :  hares\n",
      "1904 :  lynxes\n",
      "1905 :  lynxes\n",
      "1906 :  carrots\n",
      "1907 :  carrots\n",
      "1908 :  carrots\n",
      "1909 :  carrots\n",
      "1910 :  carrots\n",
      "1911 :  carrots\n",
      "1912 :  hares\n",
      "1913 :  hares\n",
      "1914 :  hares\n",
      "1915 :  lynxes\n",
      "1916 :  carrots\n",
      "1917 :  carrots\n",
      "1918 :  carrots\n",
      "1919 :  carrots\n",
      "1920 :  carrots\n",
      "\n"
     ]
    },
    {
     "data": {
      "image/png": "[encoded data removed]",
      "text/plain": [
       "<Figure size 432x288 with 1 Axes>"
      ]
     },
     "metadata": {
      "needs_background": "light"
     },
     "output_type": "display_data"
    }
   ],
   "source": [
    "import matplotlib.pyplot as plt\n",
    "data = np.loadtxt('populations.txt')\n",
    "# print(data)\n",
    "\n",
    "year = data[:,0]\n",
    "hares = data[:,1]\n",
    "lynxes = data[:,2]\n",
    "carrots = data[:,3]\n",
    "\n",
    "plt.figure()\n",
    "plt.plot(year, hares)\n",
    "plt.plot(year, lynxes)\n",
    "plt.plot(year, carrots)\n",
    "plt.legend([\"Hares\",\"Lynxes\",\"Carrots\"])\n",
    "\n",
    "corr0 = np.correlate(hares, lynxes)\n",
    "corr1 = np.correlate(carrots, lynxes)\n",
    "corr2 = np.correlate(hares, carrots)\n",
    "\n",
    "print('------hares------')\n",
    "for function in ['sum','min','argmin','mean','median','std']:\n",
    "   print(function, getattr(np, function)(hares))\n",
    "print(\"correlation \", corr0)\n",
    "\n",
    "print('\\n------lynxes------')\n",
    "for function in ['sum','min','argmin','mean','median','std']:\n",
    "   print(function, getattr(np, function)(lynxes))\n",
    "print(\"correlation \", corr1)\n",
    "\n",
    "print('\\n------carrots------')\n",
    "for function in ['sum','min','argmin','mean','median','std']:\n",
    "   print(function, getattr(np, function)(carrots))\n",
    "print(\"correlation \", corr2)\n",
    "\n",
    "dict = {1:'hares', 2:'lynxes', 3:'carrots'}\n",
    "max_pop = np.argmax(data[:,1:],axis=1)\n",
    "# print(max_pop)\n",
    "print('\\n max population:')\n",
    "for i in range(max_pop.size):\n",
    "    print(int(year[i]),': ',dict[max_pop[i]+1])\n",
    "print()"
   ]
  }
 ],
 "metadata": {
  "kernelspec": {
   "display_name": "Python 3",
   "language": "python",
   "name": "python3"
  },
  "language_info": {
   "codemirror_mode": {
    "name": "ipython",
    "version": 3
   },
   "file_extension": ".py",
   "mimetype": "text/x-python",
   "name": "python",
   "nbconvert_exporter": "python",
   "pygments_lexer": "ipython3",
   "version": "3.7.4"
  }
 },
 "nbformat": 4,
 "nbformat_minor": 4
}
