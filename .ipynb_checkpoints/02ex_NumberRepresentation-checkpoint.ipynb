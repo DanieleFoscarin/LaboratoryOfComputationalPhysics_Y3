{
 "cells": [
  {
   "cell_type": "markdown",
   "metadata": {},
   "source": [
    "1\\. Write a function that converts number representation (bin<->dec<->hex)"
   ]
  },
  {
   "cell_type": "code",
   "execution_count": 13,
   "metadata": {},
   "outputs": [
    {
     "name": "stdout",
     "output_type": "stream",
     "text": [
      "('0b101010', 42, '0x2a')\n",
      "('0b110111', 55, '0x37')\n",
      "('0b1000010', 66, 42)\n",
      "unrecognized base\n"
     ]
    }
   ],
   "source": [
    "def base_conv (x, init_base='dec'):     \n",
    "    if init_base=='dec':\n",
    "        decx = x\n",
    "        binx = bin(decx)\n",
    "        hexx = hex(decx)\n",
    "    elif init_base=='bin':\n",
    "        binx = x\n",
    "        decx = int(str(binx), 2)\n",
    "        hexx = hex(decx)\n",
    "        binx = bin(decx)\n",
    "    elif init_base=='hex':\n",
    "        hexx = x\n",
    "        decx = int(str(hexx),16)\n",
    "        binx = bin(decx)\n",
    "    else:\n",
    "        #consider also an error\n",
    "        return('unrecognized base')\n",
    "    return binx, decx, hexx\n",
    "\n",
    "print(base_conv(42))\n",
    "print(base_conv(110111, 'bin'))\n",
    "print(base_conv(0x2a, 'hex')) \n",
    "print(base_conv(234, 'something'))\n",
    "\n",
    "        "
   ]
  },
  {
   "cell_type": "markdown",
   "metadata": {},
   "source": [
    "2\\. Write a function that converts a 32 bit word into a single precision floating point (i.e. interprets the various bits as sign, mantissa and exponent)"
   ]
  },
  {
   "cell_type": "code",
   "execution_count": 79,
   "metadata": {},
   "outputs": [
    {
     "name": "stdout",
     "output_type": "stream",
     "text": [
      "-4.564476013183594\n"
     ]
    }
   ],
   "source": [
    "def bit2float(xs):\n",
    "    sign = xs[0]\n",
    "    exp = int(xs[1:9],2)-127\n",
    "    mant = 1.0\n",
    "    for i in range(9,32):\n",
    "        mant = mant + int(xs[i])*2**(-(i-8))\n",
    "    fl = ((-1)**int(sign))*(mant*2**exp) \n",
    "    return fl\n",
    "\n",
    "print(bit2float('11000000100100100001000000110000'))\n",
    "    "
   ]
  },
  {
   "cell_type": "markdown",
   "metadata": {},
   "source": [
    "3\\. Write a program to determine the underflow and overflow limits (within a factor of 2) for python on your computer. \n",
    "\n",
    "**Tips**: define two variables inizialized to 1 and halve/double them enough time to exceed the under/over-flow limits  "
   ]
  },
  {
   "cell_type": "code",
   "execution_count": 92,
   "metadata": {},
   "outputs": [
    {
     "name": "stdout",
     "output_type": "stream",
     "text": [
      "min value:5e-324\n",
      "max value:8.98846567431158e+307\n"
     ]
    }
   ],
   "source": [
    "import math\n",
    "x = 1.\n",
    "while(x/2>0):\n",
    "    x = x/2\n",
    "\n",
    "print(\"min value:\" + str(x)) \n",
    "\n",
    "x = 1.\n",
    "#use math.inf for the biggest representable number\n",
    "while(x*2<math.inf):\n",
    "    x = x*2\n",
    "\n",
    "print(\"max value:\" + str(x))"
   ]
  },
  {
   "cell_type": "markdown",
   "metadata": {},
   "source": [
    "4\\. Write a program to determine the machine precision\n",
    "\n",
    "**Tips**: define a new variable by adding a smaller and smaller value (proceeding similarly to prob. 2) to an original variable and check the point where the two are the same "
   ]
  },
  {
   "cell_type": "code",
   "execution_count": 80,
   "metadata": {},
   "outputs": [
    {
     "name": "stdout",
     "output_type": "stream",
     "text": [
      "2.220446049250313e-16\n"
     ]
    }
   ],
   "source": [
    "prec = float(1)\n",
    "\n",
    "while float(1)+float(prec) != float(1):\n",
    "    prec_last = prec\n",
    "    prec = float(prec) / float(2)\n",
    "    \n",
    "print(prec_last)\n"
   ]
  },
  {
   "cell_type": "markdown",
   "metadata": {},
   "source": [
    "5\\. Write a function that takes in input three parameters $a$, $b$ and $c$ and prints out the two solutions to the quadratic equation $ax^2+bx+c=0$ using the standard formula:\n",
    "$$\n",
    "x=\\frac{-b\\pm\\sqrt{b^2-4ac}}{2a}\n",
    "$$\n",
    "\n",
    "(a) use the program to compute the solution for $a=0.001$, $b=1000$ and $c=0.001$\n",
    "\n",
    "(b) re-express the standard solution formula by multiplying top and bottom by $-b\\mp\\sqrt{b^2-4ac}$ and again find the solution for $a=0.001$, $b=1000$ and $c=0.001$. How does it compare with what previously obtained? Why?\n",
    "\n",
    "(c) write a function that compute the roots of a quadratic equation accurately in all cases"
   ]
  },
  {
   "cell_type": "code",
   "execution_count": 1,
   "metadata": {},
   "outputs": [
    {
     "name": "stdout",
     "output_type": "stream",
     "text": [
      "[-9.999894245993346e-07, -999999.999999]\n",
      "[-9.999894245993346e-07, -999999.9999989999]\n",
      "[-1.0007061064243317e-06, -999999.9999989993]\n",
      "[-1.0007061064243317e-06, -999999.9999989993]\n"
     ]
    }
   ],
   "source": [
    "def quadratic(a,b,c):\n",
    "    x = []\n",
    "    x.append((-b+(b**2-4*a*c)**0.5)/(2*a))\n",
    "    x.append((-b-(b**2-4*a*c)**0.5)/(2*a))\n",
    "    return x\n",
    "\n",
    "print(quadratic(0.001,1000,0.001))\n",
    "\n",
    "def quadratic2(a,b,c):\n",
    "    x = []\n",
    "    x.append((-b+(b**2-4*a*c)**0.5)/(2*a)*(-b-(b**2-4*a*c)**0.5)/(-b-(b**2-4*a*c)**0.5))\n",
    "    x.append((-b-(b**2-4*a*c)**0.5)/(2*a)*(-b+(b**2-4*a*c)**0.5)/(-b+(b**2-4*a*c)**0.5))\n",
    "    return x\n",
    "\n",
    "print(quadratic2(0.001,1000,0.001))\n",
    "import math as m\n",
    "def quadratic3(a,b,c):\n",
    "    #using logarithm trick\n",
    "    x = []\n",
    "    e = m.e\n",
    "    x.append((-b/(2*a)+e**((0.5*m.log(b**2-4*a*c))-m.log(2*a))))\n",
    "    x.append((-b/(2*a)-e**((0.5*m.log(b**2-4*a*c))-m.log(2*a))))\n",
    "    return x\n",
    "\n",
    "print(quadratic3(0.001,1000,0.001))\n",
    "\n",
    "def quadratic4(a,b,c):\n",
    "    x = []\n",
    "    e = m.e\n",
    "    x.append((-b/(2*a)+e**((0.5*m.log(b**2-4*a*c))-m.log(2*a)))*(-b-(b**2-4*a*c)**0.5)/(-b-(b**2-4*a*c)**0.5))\n",
    "    x.append((-b/(2*a)-e**((0.5*m.log(b**2-4*a*c))-m.log(2*a)))*(-b+(b**2-4*a*c)**0.5)/(-b+(b**2-4*a*c)**0.5))\n",
    "    return x\n",
    "\n",
    "print(quadratic4(0.001,1000,0.001))\n",
    "\n",
    "#quadratic 3 and 4 gives the same output so using the logarithm is the way to make the function accurate in every case"
   ]
  },
  {
   "cell_type": "markdown",
   "metadata": {},
   "source": [
    "6\\. Write a program that implements the function $f(x)=x(x−1)$\n",
    "\n",
    "(a) Calculate the derivative of the function at the point $x = 1$ using the derivative definition:\n",
    "\n",
    "$$\n",
    "\\frac{{\\rm d}f}{{\\rm d}x} = \\lim_{\\delta\\to0} \\frac{f(x+\\delta)-f(x)}{\\delta}\n",
    "$$\n",
    "\n",
    "with $\\delta = 10^{−2}$. Calculate the true value of the same derivative analytically and compare with the answer your program gives. The two will not agree perfectly. Why not?\n",
    "\n",
    "(b) Repeat the calculation for $\\delta = 10^{−4}, 10^{−6}, 10^{−8}, 10^{−10}, 10^{−12}$ and $10^{−14}$. How does the accuracy scales with $\\delta$?"
   ]
  },
  {
   "cell_type": "code",
   "execution_count": 22,
   "metadata": {},
   "outputs": [
    {
     "name": "stdout",
     "output_type": "stream",
     "text": [
      "[2, 4, 6, 8, 10, 12, 14]\n",
      "[3.0100000000000016, 3.0000999999968414, 3.0000010000641453, 2.999999981767587, 3.000000248221113, 3.000266701747023, 2.9753977059954195]\n",
      "[0.010000000000001563, 9.999999684140448e-05, 1.0000641452734271e-06, -1.823241291276645e-08, 2.482211129972711e-07, 0.00026670174702303484, -0.02460229400458047]\n"
     ]
    },
    {
     "data": {
      "text/plain": [
       "[<matplotlib.lines.Line2D at 0x15036ccd548>]"
      ]
     },
     "execution_count": 22,
     "metadata": {},
     "output_type": "execute_result"
    },
    {
     "data": {
      "image/png": "[encoded data removed]",
      "text/plain": [
       "<Figure size 432x288 with 1 Axes>"
      ]
     },
     "metadata": {
      "needs_background": "light"
     },
     "output_type": "display_data"
    }
   ],
   "source": [
    "def f(x):\n",
    "    return x*(x+1)\n",
    "\n",
    "def dfdx(delta, x=1):\n",
    "    return (f(x+delta)-f(x))/delta\n",
    "\n",
    "# result should be 3.0\n",
    "\n",
    "delta_l = [i for i in range(1,15) if i%2==0]\n",
    "print(delta_l)\n",
    "\n",
    "res = []\n",
    "for i in range(len(delta_l)):\n",
    "    res.append(dfdx(10**(-delta_l[i])))\n",
    "\n",
    "print(res)\n",
    "res_diff = []\n",
    "for n in res:\n",
    "    res_diff.append(n-3)\n",
    "\n",
    "print(res_diff)\n",
    "from matplotlib import pyplot as plt\n",
    "plt.plot(res_diff[2:5])\n",
    "\n",
    "\n",
    "#the accuracy should improve while reducing delta, according to the definition of limit.\n",
    "# but with a delta lower than 10e-8 we get precision errors.\n",
    "#the best accuracy is obtained for delta=10e-8"
   ]
  },
  {
   "cell_type": "markdown",
   "metadata": {},
   "source": [
    "7\\. Consider the integral of the semicircle of radius 1:\n",
    "$$\n",
    "I=\\int_{-1}^{1} \\sqrt(1-x^2) {\\rm d}x\n",
    "$$\n",
    "which it's known to be $I=\\frac{\\pi}{2}=1.57079632679...$.\n",
    "Alternatively we can use the Riemann definition of the integral:\n",
    "$$\n",
    "I=\\lim_{N\\to\\infty} \\sum_{k=1}^{N} h y_k \n",
    "$$\n",
    "\n",
    "with $h=2/N$ the width of each of the $N$ slices the domain is divided into and where\n",
    "$y_k$ is the value of the function at the $k-$th slice.\n",
    "\n",
    "(a) Write a programe to compute the integral with $N=100$. How does the result compares to the true value?\n",
    "\n",
    "(b) How much can $N$ be increased if the computation needs to be run in less than a second? What is the gain in running it for 1 minute? \n"
   ]
  },
  {
   "cell_type": "code",
   "execution_count": 30,
   "metadata": {},
   "outputs": [
    {
     "data": {
      "text/plain": [
       "[<matplotlib.lines.Line2D at 0x15036bc1788>]"
      ]
     },
     "execution_count": 30,
     "metadata": {},
     "output_type": "execute_result"
    },
    {
     "data": {
      "image/png": "[encoded data removed]",
      "text/plain": [
       "<Figure size 432x288 with 1 Axes>"
      ]
     },
     "metadata": {
      "needs_background": "light"
     },
     "output_type": "display_data"
    }
   ],
   "source": [
    "import numpy as np\n",
    "\n",
    "\n",
    "def semici(x, r):\n",
    "    return (r**2-x**2)**0.5\n",
    "\n",
    "#let's check if the equation is doing a semicircle\n",
    "l = []\n",
    "ax = np.linspace(-1,1,100)\n",
    "for i in ax:\n",
    "#     print(semici(i))\n",
    "    l.append(semici(i,1))\n",
    "from matplotlib import pyplot as plt\n",
    "plt.plot(l)"
   ]
  },
  {
   "cell_type": "code",
   "execution_count": 34,
   "metadata": {},
   "outputs": [
    {
     "name": "stdout",
     "output_type": "stream",
     "text": [
      "1.5534179294048955\n",
      "147 µs ± 1.85 µs per loop (mean ± std. dev. of 7 runs, 10000 loops each)\n",
      "\n",
      "1.5691729158636207\n",
      "1.25 ms ± 14 µs per loop (mean ± std. dev. of 7 runs, 1000 loops each)\n",
      "\n",
      "1.570637583999452\n",
      "12.1 ms ± 110 µs per loop (mean ± std. dev. of 7 runs, 100 loops each)\n",
      "\n",
      "1.570780566239904\n",
      "121 ms ± 1.46 ms per loop (mean ± std. dev. of 7 runs, 10 loops each)\n",
      "\n",
      "1.5707947543355443\n",
      "1.23 s ± 27.3 ms per loop (mean ± std. dev. of 7 runs, 1 loop each)\n"
     ]
    }
   ],
   "source": [
    "def semici(x, r):\n",
    "    return (r**2-x**2)**0.5\n",
    "\n",
    "def semicircle_integral(n, r=1):\n",
    "    I = 0\n",
    "    ax = np.linspace(-r,r,n)\n",
    "    for i in ax:\n",
    "        I += (2/n)*semici(i,r)\n",
    "    return I\n",
    "\n",
    "print(semicircle_integral(100))\n",
    "%timeit semicircle_integral(100)\n",
    "print()\n",
    "print(semicircle_integral(1000))\n",
    "%timeit semicircle_integral(1000)\n",
    "print()\n",
    "print(semicircle_integral(10000))\n",
    "%timeit semicircle_integral(10000)\n",
    "print()\n",
    "print(semicircle_integral(100000))\n",
    "%timeit semicircle_integral(100000)\n",
    "print()\n",
    "print(semicircle_integral(1000000))\n",
    "%timeit semicircle_integral(1000000)\n",
    "\n",
    "#we reach one second of runtime for a value of N between 10e5 and 10e6\n",
    "#the improvement in the accuracy is on the 10e-6 magnitude"
   ]
  },
  {
   "cell_type": "code",
   "execution_count": 35,
   "metadata": {},
   "outputs": [
    {
     "name": "stdout",
     "output_type": "stream",
     "text": [
      "1.5707962953742862\n"
     ]
    }
   ],
   "source": [
    "#if the increasing of the running time is quasi linear, we should have \n",
    "#about a minute of running time with 50,000,000\n",
    "print(semicircle_integral(50000000))"
   ]
  },
  {
   "cell_type": "code",
   "execution_count": null,
   "metadata": {},
   "outputs": [],
   "source": [
    "#it is close to the real value 1.57079632679 up until the sixth decimal digit, not a big improvement "
   ]
  }
 ],
 "metadata": {
  "kernelspec": {
   "display_name": "Python 3",
   "language": "python",
   "name": "python3"
  },
  "language_info": {
   "codemirror_mode": {
    "name": "ipython",
    "version": 3
   },
   "file_extension": ".py",
   "mimetype": "text/x-python",
   "name": "python",
   "nbconvert_exporter": "python",
   "pygments_lexer": "ipython3",
   "version": "3.7.4"
  }
 },
 "nbformat": 4,
 "nbformat_minor": 4
}
